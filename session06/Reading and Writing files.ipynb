{
 "cells": [
  {
   "cell_type": "code",
   "execution_count": 8,
   "metadata": {},
   "outputs": [
    {
     "name": "stdout",
     "output_type": "stream",
     "text": [
      "\\home\\keith\\Downloads\\ALL_AML_samples.txt\n"
     ]
    }
   ],
   "source": [
    "data = 'ALL_AML_data.txt'\n",
    "gene = 'ALL_AML_genes.txt'\n",
    "samples = 'ALL_AML_samples.txt'\n",
    "\n",
    "root_path = '\\home\\keith\\Downloads'\n",
    "\n",
    "full_sample_path = root_path + '\\\\' + samples\n",
    "print(full_sample_path)\n"
   ]
  },
  {
   "cell_type": "code",
   "execution_count": 3,
   "metadata": {},
   "outputs": [],
   "source": [
    "with open(samples, 'r') as samples_file:\n",
    "    text = samples_file.read()"
   ]
  },
  {
   "cell_type": "code",
   "execution_count": 7,
   "metadata": {},
   "outputs": [
    {
     "data": {
      "text/plain": [
       "['ALL_19769_B-cell',\n",
       " 'ALL_23953_B-cell',\n",
       " 'ALL_28373_B-cell',\n",
       " 'ALL_9335_B-cell',\n",
       " 'ALL_9692_B-cell',\n",
       " 'ALL_14749_B-cell',\n",
       " 'ALL_17281_B-cell',\n",
       " 'ALL_19183_B-cell',\n",
       " 'ALL_20414_B-cell',\n",
       " 'ALL_21302_B-cell',\n",
       " 'ALL_549_B-cell',\n",
       " 'ALL_17929_B-cell',\n",
       " 'ALL_20185_B-cell',\n",
       " 'ALL_11103_B-cell',\n",
       " 'ALL_18239_B-cell',\n",
       " 'ALL_5982_B-cell',\n",
       " 'ALL_7092_B-cell',\n",
       " 'ALL_R11_B-cell',\n",
       " 'ALL_R23_B-cell',\n",
       " 'ALL_16415_T-cell',\n",
       " 'ALL_19881_T-cell',\n",
       " 'ALL_9186_T-cell',\n",
       " 'ALL_9723_T-cell',\n",
       " 'ALL_17269_T-cell',\n",
       " 'ALL_14402_T-cell',\n",
       " 'ALL_17638_T-cell',\n",
       " 'ALL_22474_T-cell',\n",
       " 'AML_12',\n",
       " 'AML_13',\n",
       " 'AML_14',\n",
       " 'AML_16',\n",
       " 'AML_20',\n",
       " 'AML_1',\n",
       " 'AML_2',\n",
       " 'AML_3',\n",
       " 'AML_5',\n",
       " 'AML_6',\n",
       " 'AML_7']"
      ]
     },
     "execution_count": 7,
     "metadata": {},
     "output_type": "execute_result"
    }
   ],
   "source": [
    "text.strip('\\x00').split()"
   ]
  },
  {
   "cell_type": "code",
   "execution_count": 42,
   "metadata": {},
   "outputs": [
    {
     "name": "stdout",
     "output_type": "stream",
     "text": [
      "38\n"
     ]
    }
   ],
   "source": [
    "print(len(text.strip('\\x00').split()))"
   ]
  },
  {
   "cell_type": "code",
   "execution_count": 15,
   "metadata": {},
   "outputs": [],
   "source": [
    "with open(data, 'r') as data_file:\n",
    "    raw_data = data_file.read()"
   ]
  },
  {
   "cell_type": "code",
   "execution_count": 24,
   "metadata": {},
   "outputs": [
    {
     "name": "stdout",
     "output_type": "stream",
     "text": [
      "<class 'str'>\n",
      "<class 'str'>\n",
      "<class 'list'>\n"
     ]
    }
   ],
   "source": [
    "data_lines = raw_data.strip().split('\\n')\n",
    "print(type(raw_data))\n",
    "print(type(raw_data.strip()))\n",
    "print(type(raw_data.split('\\n')))"
   ]
  },
  {
   "cell_type": "code",
   "execution_count": 39,
   "metadata": {},
   "outputs": [],
   "source": [
    "formatted_data = []\n",
    "for line in data_lines:\n",
    "    element_vals = line.strip().split('\\t')\n",
    "    element_num = []\n",
    "    for val in element_vals:\n",
    "        v = float(val)\n",
    "        element_num.append(v)\n",
    "    formatted_data.append(element_num)\n",
    "    "
   ]
  },
  {
   "cell_type": "code",
   "execution_count": 40,
   "metadata": {},
   "outputs": [
    {
     "data": {
      "text/plain": [
       "81"
      ]
     },
     "execution_count": 40,
     "metadata": {},
     "output_type": "execute_result"
    }
   ],
   "source": [
    "x = [1,2,3,4,56,7,8]\n",
    "sum(x)"
   ]
  },
  {
   "cell_type": "code",
   "execution_count": 41,
   "metadata": {},
   "outputs": [
    {
     "name": "stdout",
     "output_type": "stream",
     "text": [
      "<class 'list'>\n",
      "<class 'list'>\n",
      "<class 'float'>\n"
     ]
    }
   ],
   "source": [
    "print(type(formatted_data))\n",
    "print(type(formatted_data[0]))\n",
    "print(type(formatted_data[0][0]))"
   ]
  },
  {
   "cell_type": "code",
   "execution_count": 43,
   "metadata": {},
   "outputs": [
    {
     "name": "stdout",
     "output_type": "stream",
     "text": [
      "5000\n",
      "38\n"
     ]
    }
   ],
   "source": [
    "print(len(formatted_data))\n",
    "print(len(formatted_data[0]))"
   ]
  },
  {
   "cell_type": "code",
   "execution_count": 52,
   "metadata": {},
   "outputs": [],
   "source": [
    "\n",
    "gene_info = []\n",
    "with open(gene, 'r') as gene_in_file:\n",
    "    raw_gene = gene_in_file.readlines()[1:]\n",
    "gene_des = {}\n",
    "gene_name = []\n",
    "for line in raw_gene:\n",
    "    line = line.strip()\n",
    "    line = line.split('\\t')\n",
    "    gene_name.append(line[0])\n",
    "    gene_des[line[0]] = line[1]"
   ]
  },
  {
   "cell_type": "code",
   "execution_count": 55,
   "metadata": {},
   "outputs": [],
   "source": [
    "val = gene_des['U46006_s_at']"
   ]
  },
  {
   "cell_type": "code",
   "execution_count": 56,
   "metadata": {},
   "outputs": [
    {
     "data": {
      "text/plain": [
       "'Smooth muscle LIM protein (h-SmLIM) mRNA'"
      ]
     },
     "execution_count": 56,
     "metadata": {},
     "output_type": "execute_result"
    }
   ],
   "source": [
    "val"
   ]
  },
  {
   "cell_type": "code",
   "execution_count": 62,
   "metadata": {},
   "outputs": [
    {
     "data": {
      "text/plain": [
       "<module 'earlyExplore' from '/home/keith/Documents/filesForProgramming/pythonTwitch/session06/earlyExplore.py'>"
      ]
     },
     "execution_count": 62,
     "metadata": {},
     "output_type": "execute_result"
    }
   ],
   "source": []
  },
  {
   "cell_type": "code",
   "execution_count": 61,
   "metadata": {},
   "outputs": [],
   "source": []
  },
  {
   "cell_type": "code",
   "execution_count": 64,
   "metadata": {},
   "outputs": [
    {
     "name": "stdout",
     "output_type": "stream",
     "text": [
      "ALL\n",
      "ALL\n",
      "ALL\n",
      "ALL\n",
      "ALL\n",
      "ALL\n",
      "ALL\n",
      "ALL\n",
      "ALL\n",
      "ALL\n",
      "ALL\n",
      "ALL\n",
      "ALL\n",
      "ALL\n",
      "ALL\n",
      "ALL\n",
      "ALL\n",
      "ALL\n",
      "ALL\n",
      "ALL\n",
      "ALL\n",
      "ALL\n",
      "ALL\n",
      "ALL\n",
      "ALL\n",
      "ALL\n",
      "ALL\n",
      "AML\n",
      "AML\n",
      "AML\n",
      "AML\n",
      "AML\n",
      "AML\n",
      "AML\n",
      "AML\n",
      "AML\n",
      "AML\n",
      "AML\n"
     ]
    }
   ],
   "source": [
    "for samp in sample_names:\n",
    "    print(samp.split('_')[0])"
   ]
  },
  {
   "cell_type": "code",
   "execution_count": 65,
   "metadata": {},
   "outputs": [],
   "source": [
    "with open('ALL_AML_samples.txt', 'r') as samples_file:\n",
    "    text = samples_file.read()\n",
    "    \n",
    "text = text.strip('\\x00').split()"
   ]
  },
  {
   "cell_type": "code",
   "execution_count": 77,
   "metadata": {},
   "outputs": [],
   "source": [
    "temp_filename = 'ALL_AML_samples.txt'"
   ]
  },
  {
   "cell_type": "code",
   "execution_count": 78,
   "metadata": {},
   "outputs": [
    {
     "name": "stdout",
     "output_type": "stream",
     "text": [
      "ALL_19769_B-cell\n",
      "ALL_23953_B-cell\n",
      "ALL_28373_B-cell\n",
      "ALL_9335_B-cell\n",
      "ALL_9692_B-cell\n",
      "ALL_14749_B-cell\n",
      "ALL_17281_B-cell\n",
      "ALL_19183_B-cell\n",
      "ALL_20414_B-cell\n",
      "ALL_21302_B-cell\n",
      "ALL_549_B-cell\n",
      "ALL_17929_B-cell\n",
      "ALL_20185_B-cell\n",
      "ALL_11103_B-cell\n",
      "ALL_18239_B-cell\n",
      "ALL_5982_B-cell\n",
      "ALL_7092_B-cell\n",
      "ALL_R11_B-cell\n",
      "ALL_R23_B-cell\n",
      "ALL_16415_T-cell\n",
      "ALL_19881_T-cell\n",
      "ALL_9186_T-cell\n",
      "ALL_9723_T-cell\n",
      "ALL_17269_T-cell\n",
      "ALL_14402_T-cell\n",
      "ALL_17638_T-cell\n",
      "ALL_22474_T-cell\n",
      "AML_12\n",
      "AML_13\n",
      "AML_14\n",
      "AML_16\n",
      "AML_20\n",
      "AML_1\n",
      "AML_2\n",
      "AML_3\n",
      "AML_5\n",
      "AML_6\n",
      "AML_7\n"
     ]
    }
   ],
   "source": [
    "with open(temp_filename, 'w') as test_fix:\n",
    "    for sample_name in text:\n",
    "        test_fix.write( sample_name + '\\n' )\n",
    "        print(sample_name)"
   ]
  },
  {
   "cell_type": "code",
   "execution_count": 79,
   "metadata": {},
   "outputs": [
    {
     "data": {
      "text/plain": [
       "<module 'earlyExplore' from '/home/keith/Documents/filesForProgramming/pythonTwitch/session06/earlyExplore.py'>"
      ]
     },
     "execution_count": 79,
     "metadata": {},
     "output_type": "execute_result"
    }
   ],
   "source": [
    "import earlyExplore\n",
    "from importlib import reload\n",
    "\n",
    "reload(earlyExplore)"
   ]
  },
  {
   "cell_type": "code",
   "execution_count": 89,
   "metadata": {},
   "outputs": [],
   "source": [
    "sample_names, gene_names, gene_des, formatted_data = \\\n",
    "                            earlyExplore.load_data()"
   ]
  },
  {
   "cell_type": "code",
   "execution_count": 84,
   "metadata": {},
   "outputs": [],
   "source": [
    "'''\n",
    "Sample names\n",
    "Gene Names\n",
    "\n",
    "All data \n",
    "\n",
    "     | Sample Names\n",
    "------------\n",
    "Gene |  DATA\n",
    "\n",
    "Gene Description? where do those go?\n",
    "\n",
    "\n",
    "tsv \n",
    "\n",
    "output_string = \"\"\n",
    "\n",
    "# First Row\n",
    "\n",
    "for the first row:\n",
    "    start with a tab\n",
    "    for each column thereafter:\n",
    "        add in the sample name\n",
    "        \n",
    "\n",
    "\n",
    "output_string += '\\t'\n",
    "\n",
    "for sample_name in sample_names:\n",
    "    output_string += sample_name + '\\t'\n",
    "\n",
    "output_string += '\\n'\n",
    "\n",
    "# Lots of rows \n",
    "\n",
    "for i in range(len(gene_names)):\n",
    "    gene = gene_names[i]\n",
    "    data_row = formatted_data[i]\n",
    "    # Convert data_row values back to a string\n",
    "    for j in range(len(data_row)):\n",
    "        data_row[j] = str(data_row[j])\n",
    "        \n",
    "    new_row = gene + '\\t' + '\\t'.join(data_row) + '\\n'\n",
    "    \n",
    "    output_string += new_row\n",
    "    \n",
    "    \n",
    "for each gene:\n",
    "    grab that gene\n",
    "    grab that data row\n",
    "    for each value in the data row\n",
    "        convert that value into a string\n",
    "        \n",
    "    create a new string of:\n",
    "        the gene\n",
    "        a tab\n",
    "        the data row: sepperate the data by tabs\n",
    "    \n",
    "\n",
    "'''\n",
    "\n",
    "x = \"1\\t2\\t\\n3\\t4\\t\"\n"
   ]
  },
  {
   "cell_type": "code",
   "execution_count": 85,
   "metadata": {},
   "outputs": [
    {
     "name": "stdout",
     "output_type": "stream",
     "text": [
      "1\t2\t\n",
      "3\t4\t\n"
     ]
    }
   ],
   "source": [
    "print(x)"
   ]
  },
  {
   "cell_type": "code",
   "execution_count": 90,
   "metadata": {},
   "outputs": [],
   "source": [
    "\n",
    "output_string = \"\"\n",
    "\n",
    "# First Row\n",
    "\n",
    "output_string += '\\t'\n",
    "\n",
    "for sample_name in sample_names:\n",
    "    output_string += sample_name + '\\t'\n",
    "\n",
    "output_string += '\\n'\n",
    "\n",
    "\n",
    "for i in range(len(gene_names)):\n",
    "    gene = gene_names[i]\n",
    "    data_row = formatted_data[i]\n",
    "    # Convert data_row values back to a string\n",
    "    for j in range(len(data_row)):\n",
    "        data_row[j] = str(data_row[j])\n",
    "        \n",
    "    new_row = gene + '\\t' + '\\t'.join(data_row) + '\\n'\n",
    "    \n",
    "    output_string += new_row"
   ]
  },
  {
   "cell_type": "code",
   "execution_count": 92,
   "metadata": {},
   "outputs": [],
   "source": [
    "with open('all_aml.tsv', 'w') as quick_file:\n",
    "    quick_file.write(output_string)\n",
    "    "
   ]
  },
  {
   "cell_type": "code",
   "execution_count": 94,
   "metadata": {},
   "outputs": [],
   "source": [
    "with open('all_aml.csv', 'w') as quick_file:\n",
    "    #split_string = output_string.split('\\t')\n",
    "    #new_string = ','.join(split_string)\n",
    "    new_string = output_string.replace('\\t', ',')\n",
    "    quick_file.write( new_string  )"
   ]
  },
  {
   "cell_type": "code",
   "execution_count": null,
   "metadata": {},
   "outputs": [],
   "source": []
  }
 ],
 "metadata": {
  "kernelspec": {
   "display_name": "Python 3",
   "language": "python",
   "name": "python3"
  },
  "language_info": {
   "codemirror_mode": {
    "name": "ipython",
    "version": 3
   },
   "file_extension": ".py",
   "mimetype": "text/x-python",
   "name": "python",
   "nbconvert_exporter": "python",
   "pygments_lexer": "ipython3",
   "version": "3.7.3"
  }
 },
 "nbformat": 4,
 "nbformat_minor": 2
}
